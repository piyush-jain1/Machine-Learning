{
 "cells": [
  {
   "cell_type": "code",
   "execution_count": 101,
   "metadata": {
    "collapsed": true
   },
   "outputs": [],
   "source": [
    "import pandas as pd\n",
    "import numpy as np\n",
    "from sklearn import linear_model\n",
    "import csv\n",
    "import warnings\n",
    "warnings.filterwarnings('ignore')"
   ]
  },
  {
   "cell_type": "code",
   "execution_count": 102,
   "metadata": {
    "collapsed": true
   },
   "outputs": [],
   "source": [
    "dataset = pd.read_csv('train.csv',sep = \",\")\n",
    "dataset = dataset.drop('Id',axis = 1)\n",
    "\n",
    "data = np.array(dataset)"
   ]
  },
  {
   "cell_type": "code",
   "execution_count": 103,
   "metadata": {
    "collapsed": false
   },
   "outputs": [
    {
     "name": "stdout",
     "output_type": "stream",
     "text": [
      "[5 5 2 ..., 3 3 3]\n"
     ]
    }
   ],
   "source": [
    "X = data[:,:-1]\n",
    "Y = data[:,-1]\n",
    "print(Y)"
   ]
  },
  {
   "cell_type": "code",
   "execution_count": 104,
   "metadata": {
    "collapsed": false
   },
   "outputs": [],
   "source": [
    "test_data = pd.read_csv('test.csv',sep = \",\")\n",
    "test_data = test_data.drop('Id',axis = 1)\n",
    "test_data = np.array(test_data)"
   ]
  },
  {
   "cell_type": "code",
   "execution_count": 105,
   "metadata": {
    "collapsed": false
   },
   "outputs": [
    {
     "data": {
      "text/plain": [
       "LogisticRegression(C=100, class_weight=None, dual=False, fit_intercept=True,\n",
       "          intercept_scaling=1, max_iter=100, multi_class='ovr', n_jobs=1,\n",
       "          penalty='l2', random_state=None, solver='liblinear', tol=0.0001,\n",
       "          verbose=0, warm_start=False)"
      ]
     },
     "execution_count": 105,
     "metadata": {},
     "output_type": "execute_result"
    }
   ],
   "source": [
    "logreg = linear_model.LogisticRegression(penalty='l2',C=100)\n",
    "logreg.fit(X,Y)"
   ]
  },
  {
   "cell_type": "code",
   "execution_count": 106,
   "metadata": {
    "collapsed": false
   },
   "outputs": [],
   "source": [
    "y_test = logreg.predict(test_data)"
   ]
  },
  {
   "cell_type": "code",
   "execution_count": 107,
   "metadata": {
    "collapsed": false
   },
   "outputs": [],
   "source": [
    "with open('predict_c1_l2.csv','w') as csvfile:\n",
    "    fieldnames = ['Id', 'Cover_type']\n",
    "    writer = csv.DictWriter(csvfile, fieldnames= fieldnames)\n",
    "    writer.writeheader()\n",
    "    i = 15121\n",
    "    for point in y_test:\n",
    "        writer.writerow({'Id' : str(i) , 'Cover_type' : str(point)})\n",
    "        i = i +1\n",
    "        "
   ]
  },
  {
   "cell_type": "code",
   "execution_count": 108,
   "metadata": {
    "collapsed": false
   },
   "outputs": [],
   "source": [
    "from sklearn import cross_validation\n",
    "X_train, X_val, Y_train, Y_val = cross_validation.train_test_split(X, Y, test_size=0.1, random_state = 0)"
   ]
  },
  {
   "cell_type": "code",
   "execution_count": 109,
   "metadata": {
    "collapsed": false
   },
   "outputs": [],
   "source": [
    "from sklearn import preprocessing\n",
    "size =  10\n",
    "X_temp = preprocessing.StandardScaler().fit_transform(X_train[:,0:size])\n",
    "X_val_temp = preprocessing.StandardScaler().fit_transform(X_val[:,0:size])\n",
    "\n",
    "X_con = np.concatenate((X_temp,X_train[:,size:]),axis =1)\n",
    "X_val_con = np.concatenate((X_val_temp,X_val[:,size:]),axis=1)\n"
   ]
  },
  {
   "cell_type": "code",
   "execution_count": 122,
   "metadata": {
    "collapsed": false
   },
   "outputs": [],
   "source": [
    "logreg = linear_model.LogisticRegression(penalty='l2',C=1e5)\n",
    "logreg.fit(X_con,Y_train)\n",
    "y_val_pre = logreg.predict(X_val_con)\n"
   ]
  },
  {
   "cell_type": "code",
   "execution_count": 123,
   "metadata": {
    "collapsed": false
   },
   "outputs": [
    {
     "name": "stdout",
     "output_type": "stream",
     "text": [
      "1016\n",
      "1512\n"
     ]
    }
   ],
   "source": [
    "count = 0\n",
    "for i in range(0,len(y_val_pre)):\n",
    "    if y_val_pre[i] == Y_val[i]:\n",
    "        count = count + 1\n",
    "\n",
    "print(count)\n",
    "print(len(y_val_pre))"
   ]
  },
  {
   "cell_type": "code",
   "execution_count": 58,
   "metadata": {
    "collapsed": false
   },
   "outputs": [
    {
     "name": "stdout",
     "output_type": "stream",
     "text": [
      "9293\n",
      "13608\n"
     ]
    }
   ],
   "source": [
    "y_train_pre = logreg.predict(X_con)\n",
    "\n",
    "## checking accuracy on training set\n",
    "count = 0\n",
    "for i in range(0,len(y_train_pre)):\n",
    "    if y_train_pre[i] == Y_train[i]:\n",
    "        count = count + 1\n",
    "\n",
    "print(count)\n",
    "print(len(y_train_pre))"
   ]
  },
  {
   "cell_type": "code",
   "execution_count": 61,
   "metadata": {
    "collapsed": true
   },
   "outputs": [],
   "source": [
    "logreg.fit(X_train, Y_train)\n",
    "y_val_pre = logreg.predict(X_val)"
   ]
  },
  {
   "cell_type": "code",
   "execution_count": 64,
   "metadata": {
    "collapsed": false
   },
   "outputs": [
    {
     "name": "stdout",
     "output_type": "stream",
     "text": [
      "1003\n",
      "1512\n"
     ]
    }
   ],
   "source": [
    "count = 0\n",
    "for i in range(0,len(y_val_pre)):\n",
    "    if y_val_pre[i] == Y_val[i]:\n",
    "        count = count + 1\n",
    "\n",
    "print(count)\n",
    "print(len(y_val_pre))"
   ]
  },
  {
   "cell_type": "code",
   "execution_count": 65,
   "metadata": {
    "collapsed": true
   },
   "outputs": [],
   "source": [
    "## combining the varibales\n",
    "\n",
    "#names of all the columns\n",
    "cols = dataset.columns\n",
    "\n",
    "#print(cols.values.tolist()[:10])\n",
    "#number of rows=r , number of columns=c\n",
    "r,c = dataset.shape\n",
    "\n",
    "#Create a new dataframe with r rows, one column for each encoded category, and target in the end\n",
    "data = pd.DataFrame(index=np.arange(0, r),columns=cols.values.tolist()[:10]+['Wilderness_Area','Soil_Type','Cover_Type'])"
   ]
  },
  {
   "cell_type": "code",
   "execution_count": 76,
   "metadata": {
    "collapsed": false
   },
   "outputs": [
    {
     "name": "stdout",
     "output_type": "stream",
     "text": [
      "0\n",
      "1000\n",
      "2000\n",
      "3000\n",
      "4000\n",
      "5000\n",
      "6000\n",
      "7000\n",
      "8000\n",
      "9000\n",
      "10000\n",
      "11000\n",
      "12000\n",
      "13000\n",
      "14000\n",
      "15000\n",
      "(15120, 13)\n"
     ]
    }
   ],
   "source": [
    "#Make an entry in 'data' for each r as category_id, target value\n",
    "for i in range(0,r):\n",
    "    w=0;\n",
    "    s=0;\n",
    "    # Category1 range\n",
    "    #print(i)\n",
    "    if i%1000 == 0:\n",
    "        print(i)\n",
    "        \n",
    "    for j in range(0,10):\n",
    "    \tdata.iloc[i,j]=dataset.iloc[i,j]\n",
    "\n",
    "    for j in range(10,14):\n",
    "        if (dataset.iloc[i,j] == 1):\n",
    "            data.iloc[i,10] = j-9\n",
    "            break\n",
    "       \n",
    "    for k in range(14,54):\n",
    "        if (dataset.iloc[i,k] == 1):\n",
    "            data.iloc[i,11] = k-13\n",
    "            break\n",
    "    #Make an entry in 'data' for each r as category_id, target value        \n",
    "    data.iloc[i,12]=dataset.iloc[i,c-1]\n",
    "\n",
    "print(data.shape)"
   ]
  },
  {
   "cell_type": "code",
   "execution_count": null,
   "metadata": {
    "collapsed": false
   },
   "outputs": [],
   "source": []
  },
  {
   "cell_type": "code",
   "execution_count": 79,
   "metadata": {
    "collapsed": false
   },
   "outputs": [
    {
     "name": "stdout",
     "output_type": "stream",
     "text": [
      "[5 5 2 ..., 3 3 3]\n"
     ]
    }
   ],
   "source": [
    "data = np.array(data)\n",
    "### slicing the array \n",
    "X = data[:,:-1]\n",
    "Y = data[:,-1]\n",
    "print(Y)"
   ]
  },
  {
   "cell_type": "code",
   "execution_count": 89,
   "metadata": {
    "collapsed": false
   },
   "outputs": [],
   "source": [
    "X_train, X_val, Y_train, Y_val = cross_validation.train_test_split(X, Y, test_size=0.1, random_state=0)"
   ]
  },
  {
   "cell_type": "code",
   "execution_count": 90,
   "metadata": {
    "collapsed": false
   },
   "outputs": [
    {
     "name": "stdout",
     "output_type": "stream",
     "text": [
      "922\n",
      "1512\n"
     ]
    }
   ],
   "source": [
    "## fitting the model\n",
    "# standard model object \n",
    "logreg.fit(X_train, Y_train.astype(int))\n",
    "\n",
    "y_val_pre = logreg.predict(X_val)\n",
    "# checking accuracy on development set\n",
    "count = 0\n",
    "for i in range(0,len(y_val_pre)):\n",
    "    if y_val_pre[i] == Y_val[i]:\n",
    "        count = count + 1\n",
    "\n",
    "print(count)\n",
    "print(len(y_val_pre))"
   ]
  },
  {
   "cell_type": "code",
   "execution_count": 130,
   "metadata": {
    "collapsed": false
   },
   "outputs": [
    {
     "name": "stdout",
     "output_type": "stream",
     "text": [
      "testing other models\n",
      "1279\n",
      "1512\n"
     ]
    }
   ],
   "source": [
    "from sklearn.svm import SVC, LinearSVC\n",
    "from sklearn.ensemble import RandomForestClassifier\n",
    "\n",
    "print(\"testing other models\")\n",
    "random_forest = RandomForestClassifier(n_estimators=30)\n",
    "random_forest.fit(X_train, Y_train.astype(int))\n",
    "y_val_pre = random_forest.predict(X_val)\n",
    "\n",
    "count = 0\n",
    "for i in range(0,len(y_val_pre)):\n",
    "    if y_val_pre[i] == Y_val[i]:\n",
    "        count = count + 1\n",
    "\n",
    "print(count)\n",
    "print(len(y_val_pre))"
   ]
  },
  {
   "cell_type": "code",
   "execution_count": 131,
   "metadata": {
    "collapsed": false
   },
   "outputs": [
    {
     "data": {
      "text/plain": [
       "array([[2680,  354,   14, ...,    0,    0,    0],\n",
       "       [2683,    0,   13, ...,    0,    0,    0],\n",
       "       [2713,   16,   15, ...,    0,    0,    0],\n",
       "       ..., \n",
       "       [2386,  159,   17, ...,    0,    0,    0],\n",
       "       [2384,  170,   15, ...,    0,    0,    0],\n",
       "       [2383,  165,   13, ...,    0,    0,    0]])"
      ]
     },
     "execution_count": 131,
     "metadata": {},
     "output_type": "execute_result"
    }
   ],
   "source": [
    "test_data"
   ]
  },
  {
   "cell_type": "code",
   "execution_count": 132,
   "metadata": {
    "collapsed": false
   },
   "outputs": [
    {
     "data": {
      "text/plain": [
       "(565892, 54)"
      ]
     },
     "execution_count": 132,
     "metadata": {},
     "output_type": "execute_result"
    }
   ],
   "source": [
    "test_data.shape"
   ]
  },
  {
   "cell_type": "code",
   "execution_count": 133,
   "metadata": {
    "collapsed": false
   },
   "outputs": [
    {
     "data": {
      "text/plain": [
       "(13608, 54)"
      ]
     },
     "execution_count": 133,
     "metadata": {},
     "output_type": "execute_result"
    }
   ],
   "source": [
    "X_train.shape"
   ]
  },
  {
   "cell_type": "code",
   "execution_count": 134,
   "metadata": {
    "collapsed": false
   },
   "outputs": [
    {
     "data": {
      "text/plain": [
       "(1512, 54)"
      ]
     },
     "execution_count": 134,
     "metadata": {},
     "output_type": "execute_result"
    }
   ],
   "source": [
    "X_val.shape"
   ]
  },
  {
   "cell_type": "code",
   "execution_count": 135,
   "metadata": {
    "collapsed": false
   },
   "outputs": [],
   "source": [
    "y_prediction = random_forest.predict(test_data)"
   ]
  },
  {
   "cell_type": "code",
   "execution_count": 136,
   "metadata": {
    "collapsed": false
   },
   "outputs": [
    {
     "data": {
      "text/plain": [
       "array([2, 1, 2, ..., 3, 3, 3])"
      ]
     },
     "execution_count": 136,
     "metadata": {},
     "output_type": "execute_result"
    }
   ],
   "source": [
    "y_prediction"
   ]
  },
  {
   "cell_type": "code",
   "execution_count": 137,
   "metadata": {
    "collapsed": true
   },
   "outputs": [],
   "source": [
    "with open('predict_c1_l2.csv','w') as csvfile:\n",
    "    fieldnames = ['Id', 'Cover_type']\n",
    "    writer = csv.DictWriter(csvfile, fieldnames= fieldnames)\n",
    "    writer.writeheader()\n",
    "    i = 15121\n",
    "    for point in y_test:\n",
    "        writer.writerow({'Id' : str(i) , 'Cover_type' : str(point)})\n",
    "        i = i +1\n",
    "        "
   ]
  },
  {
   "cell_type": "code",
   "execution_count": null,
   "metadata": {
    "collapsed": true
   },
   "outputs": [],
   "source": []
  }
 ],
 "metadata": {
  "anaconda-cloud": {},
  "kernelspec": {
   "display_name": "Python [conda root]",
   "language": "python",
   "name": "conda-root-py"
  },
  "language_info": {
   "codemirror_mode": {
    "name": "ipython",
    "version": 3
   },
   "file_extension": ".py",
   "mimetype": "text/x-python",
   "name": "python",
   "nbconvert_exporter": "python",
   "pygments_lexer": "ipython3",
   "version": "3.5.2"
  }
 },
 "nbformat": 4,
 "nbformat_minor": 1
}
