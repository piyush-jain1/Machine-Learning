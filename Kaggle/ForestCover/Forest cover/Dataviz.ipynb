{
 "cells": [
  {
   "cell_type": "code",
   "execution_count": 5,
   "metadata": {
    "collapsed": true
   },
   "outputs": [],
   "source": [
    "import pandas as pd\n",
    "from numpy import *\n",
    "from sklearn import linear_model\n",
    "import csv\n",
    "from sklearn import preprocessing"
   ]
  },
  {
   "cell_type": "code",
   "execution_count": 12,
   "metadata": {
    "collapsed": false
   },
   "outputs": [
    {
     "name": "stdout",
     "output_type": "stream",
     "text": [
      "(15120, 56)\n",
      "(15120, 55)\n"
     ]
    }
   ],
   "source": [
    "dataset = pd.read_csv('train.csv', sep=',')\n",
    "\n",
    "print(dataset.shape)\n",
    "dataset = dataset.drop('Id',axis=1)\n",
    "print(dataset.shape)"
   ]
  },
  {
   "cell_type": "code",
   "execution_count": 7,
   "metadata": {
    "collapsed": false
   },
   "outputs": [
    {
     "name": "stdout",
     "output_type": "stream",
     "text": [
      "          Elevation        Aspect         Slope  \\\n",
      "count  15120.000000  15120.000000  15120.000000   \n",
      "mean    2749.322553    156.676653     16.501587   \n",
      "std      417.678187    110.085801      8.453927   \n",
      "min     1863.000000      0.000000      0.000000   \n",
      "25%     2376.000000     65.000000     10.000000   \n",
      "50%     2752.000000    126.000000     15.000000   \n",
      "75%     3104.000000    261.000000     22.000000   \n",
      "max     3849.000000    360.000000     52.000000   \n",
      "\n",
      "       Horizontal_Distance_To_Hydrology  Vertical_Distance_To_Hydrology  \\\n",
      "count                      15120.000000                    15120.000000   \n",
      "mean                         227.195701                       51.076521   \n",
      "std                          210.075296                       61.239406   \n",
      "min                            0.000000                     -146.000000   \n",
      "25%                           67.000000                        5.000000   \n",
      "50%                          180.000000                       32.000000   \n",
      "75%                          330.000000                       79.000000   \n",
      "max                         1343.000000                      554.000000   \n",
      "\n",
      "       Horizontal_Distance_To_Roadways  Hillshade_9am  Hillshade_Noon  \\\n",
      "count                     15120.000000   15120.000000    15120.000000   \n",
      "mean                       1714.023214     212.704299      218.965608   \n",
      "std                        1325.066358      30.561287       22.801966   \n",
      "min                           0.000000       0.000000       99.000000   \n",
      "25%                         764.000000     196.000000      207.000000   \n",
      "50%                        1316.000000     220.000000      223.000000   \n",
      "75%                        2270.000000     235.000000      235.000000   \n",
      "max                        6890.000000     254.000000      254.000000   \n",
      "\n",
      "       Hillshade_3pm  Horizontal_Distance_To_Fire_Points      ...       \\\n",
      "count   15120.000000                        15120.000000      ...        \n",
      "mean      135.091997                         1511.147288      ...        \n",
      "std        45.895189                         1099.936493      ...        \n",
      "min         0.000000                            0.000000      ...        \n",
      "25%       106.000000                          730.000000      ...        \n",
      "50%       138.000000                         1256.000000      ...        \n",
      "75%       167.000000                         1988.250000      ...        \n",
      "max       248.000000                         6993.000000      ...        \n",
      "\n",
      "        Soil_Type32   Soil_Type33   Soil_Type34   Soil_Type35   Soil_Type36  \\\n",
      "count  15120.000000  15120.000000  15120.000000  15120.000000  15120.000000   \n",
      "mean       0.045635      0.040741      0.001455      0.006746      0.000661   \n",
      "std        0.208699      0.197696      0.038118      0.081859      0.025710   \n",
      "min        0.000000      0.000000      0.000000      0.000000      0.000000   \n",
      "25%        0.000000      0.000000      0.000000      0.000000      0.000000   \n",
      "50%        0.000000      0.000000      0.000000      0.000000      0.000000   \n",
      "75%        0.000000      0.000000      0.000000      0.000000      0.000000   \n",
      "max        1.000000      1.000000      1.000000      1.000000      1.000000   \n",
      "\n",
      "        Soil_Type37   Soil_Type38   Soil_Type39   Soil_Type40    Cover_Type  \n",
      "count  15120.000000  15120.000000  15120.000000  15120.000000  15120.000000  \n",
      "mean       0.002249      0.048148      0.043452      0.030357      4.000000  \n",
      "std        0.047368      0.214086      0.203880      0.171574      2.000066  \n",
      "min        0.000000      0.000000      0.000000      0.000000      1.000000  \n",
      "25%        0.000000      0.000000      0.000000      0.000000      2.000000  \n",
      "50%        0.000000      0.000000      0.000000      0.000000      4.000000  \n",
      "75%        0.000000      0.000000      0.000000      0.000000      6.000000  \n",
      "max        1.000000      1.000000      1.000000      1.000000      7.000000  \n",
      "\n",
      "[8 rows x 55 columns]\n"
     ]
    }
   ],
   "source": [
    "print(dataset.describe())"
   ]
  },
  {
   "cell_type": "code",
   "execution_count": 8,
   "metadata": {
    "collapsed": false
   },
   "outputs": [
    {
     "name": "stdout",
     "output_type": "stream",
     "text": [
      "Cover_Type\n",
      "1    2160\n",
      "2    2160\n",
      "3    2160\n",
      "4    2160\n",
      "5    2160\n",
      "6    2160\n",
      "7    2160\n",
      "dtype: int64\n"
     ]
    }
   ],
   "source": [
    "# Learning :\n",
    "# No attribute is missing as count is 15120 for all attributes. Hence, all rows can be used\n",
    "# Wilderness_Area and Soil_Type are one hot encoded. Hence, they could be converted back for some analysis\n",
    "# Attributes Soil_Type7 and Soil_Type15 can be removed as they are constant\n",
    "# Scales are not the same for all. Hence, rescaling and standardization may be necessary for some algos\n",
    "\n",
    "print(dataset.groupby('Cover_Type').size())"
   ]
  },
  {
   "cell_type": "code",
   "execution_count": 9,
   "metadata": {
    "collapsed": true
   },
   "outputs": [],
   "source": [
    "size = 10 \n",
    "\n",
    "#create a dataframe with only continuous features \n",
    "data=dataset.iloc[:,:size] \n",
    "\n",
    "#get the names of all the columns\n",
    "cols=data.columns \n",
    "\n",
    "# Calculates pearson co-efficient for all combinations\n",
    "data_corr = data.corr()\n",
    "\n",
    "# Set the threshold to select only only highly correlated attributes\n",
    "threshold = 0.5\n",
    "\n",
    "# List of pairs along with correlation above threshold\n",
    "corr_list = []"
   ]
  },
  {
   "cell_type": "code",
   "execution_count": 10,
   "metadata": {
    "collapsed": false
   },
   "outputs": [
    {
     "name": "stdout",
     "output_type": "stream",
     "text": [
      "Hillshade_9am and Hillshade_3pm = -0.78\n",
      "Horizontal_Distance_To_Hydrology and Vertical_Distance_To_Hydrology = 0.65\n",
      "Aspect and Hillshade_3pm = 0.64\n",
      "Hillshade_Noon and Hillshade_3pm = 0.61\n",
      "Slope and Hillshade_Noon = -0.61\n",
      "Aspect and Hillshade_9am = -0.59\n",
      "Elevation and Horizontal_Distance_To_Roadways = 0.58\n"
     ]
    }
   ],
   "source": [
    "#Search for the highly correlated pairs\n",
    "for i in range(0,size): #for 'size' features\n",
    "    for j in range(i+1,size): #avoid repetition\n",
    "        if (data_corr.iloc[i,j] >= threshold and data_corr.iloc[i,j] < 1) or (data_corr.iloc[i,j] < 0 and data_corr.iloc[i,j] <= -threshold):\n",
    "            corr_list.append([data_corr.iloc[i,j],i,j]) #store correlation and columns index\n",
    "\n",
    "#Sort to show higher ones first            \n",
    "s_corr_list = sorted(corr_list,key=lambda x: -abs(x[0]))\n",
    "\n",
    "#Print correlations and column names\n",
    "for v,i,j in s_corr_list:\n",
    "    print (\"%s and %s = %.2f\" % (cols[i],cols[j],v))"
   ]
  },
  {
   "cell_type": "code",
   "execution_count": 11,
   "metadata": {
    "collapsed": true
   },
   "outputs": [],
   "source": [
    "# Strong correlation is observed between the following pairs\n",
    "# This represents an opportunity to reduce the feature set through transformations such as PCA\n"
   ]
  },
  {
   "cell_type": "code",
   "execution_count": null,
   "metadata": {
    "collapsed": true
   },
   "outputs": [],
   "source": []
  }
 ],
 "metadata": {
  "kernelspec": {
   "display_name": "Python 2",
   "language": "python",
   "name": "python2"
  },
  "language_info": {
   "codemirror_mode": {
    "name": "ipython",
    "version": 2
   },
   "file_extension": ".py",
   "mimetype": "text/x-python",
   "name": "python",
   "nbconvert_exporter": "python",
   "pygments_lexer": "ipython2",
   "version": "2.7.12+"
  }
 },
 "nbformat": 4,
 "nbformat_minor": 1
}
