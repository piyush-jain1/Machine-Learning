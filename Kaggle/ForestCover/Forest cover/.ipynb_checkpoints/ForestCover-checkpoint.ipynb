{
 "cells": [
  {
   "cell_type": "code",
   "execution_count": 19,
   "metadata": {
    "collapsed": true
   },
   "outputs": [],
   "source": [
    "import pandas as pd\n",
    "import numpy as np\n",
    "from numpy import *\n",
    "from sklearn import linear_model\n",
    "import csv\n",
    "import warnings\n",
    "warnings.filterwarnings('ignore')"
   ]
  },
  {
   "cell_type": "code",
   "execution_count": 20,
   "metadata": {
    "collapsed": true
   },
   "outputs": [],
   "source": [
    "## loading the dataset\n",
    "dataset = pd.read_csv('train.csv', sep=',')\n",
    "\n",
    "## id or serial number is nt any useful attribute or tels us info about the cover\n",
    "dataset = dataset.drop('Id',axis=1)\n",
    "\n",
    "## sklearn takes input as array so have to convert dataframe into 2-d array \n",
    "data = array(dataset)"
   ]
  },
  {
   "cell_type": "code",
   "execution_count": 3,
   "metadata": {
    "collapsed": false
   },
   "outputs": [
    {
     "name": "stdout",
     "output_type": "stream",
     "text": [
      "[5 5 2 ..., 3 3 3]\n"
     ]
    }
   ],
   "source": [
    "### slicing the array \n",
    "X = data[:,:-1]\n",
    "Y = data[:,-1]\n",
    "print(Y)"
   ]
  },
  {
   "cell_type": "code",
   "execution_count": 4,
   "metadata": {
    "collapsed": true
   },
   "outputs": [],
   "source": [
    "## similar preprocessing for \n",
    "test_data = pd.read_csv('test.csv', sep=',')\n",
    "test_data = test_data.drop('Id',axis=1)\n",
    "test_data = array(test_data)"
   ]
  },
  {
   "cell_type": "code",
   "execution_count": 5,
   "metadata": {
    "collapsed": false
   },
   "outputs": [
    {
     "data": {
      "text/plain": [
       "LogisticRegression(C=100000.0, class_weight=None, dual=False,\n",
       "          fit_intercept=True, intercept_scaling=1, max_iter=100,\n",
       "          multi_class='ovr', n_jobs=1, penalty='l2', random_state=None,\n",
       "          solver='liblinear', tol=0.0001, verbose=0, warm_start=False)"
      ]
     },
     "execution_count": 5,
     "metadata": {},
     "output_type": "execute_result"
    }
   ],
   "source": [
    "## standard model object \n",
    "logreg = linear_model.LogisticRegression(penalty='l2',C=1e5)\n",
    "\n",
    "## fitting the model\n",
    "logreg.fit(X, Y)"
   ]
  },
  {
   "cell_type": "code",
   "execution_count": 6,
   "metadata": {
    "collapsed": true
   },
   "outputs": [],
   "source": [
    "## predicting labels for output values\n",
    "y_test = logreg.predict(test_data)"
   ]
  },
  {
   "cell_type": "code",
   "execution_count": 7,
   "metadata": {
    "collapsed": true
   },
   "outputs": [],
   "source": [
    "## writing files as standard outputs\n",
    "with open('predict_c1_l2.csv', 'w') as csvfile:\n",
    "    fieldnames = ['Id', 'Cover_type']\n",
    "    writer = csv.DictWriter(csvfile, fieldnames=fieldnames)\n",
    "\n",
    "    writer.writeheader()\n",
    "    i = 15121\n",
    "    for point in y_test:\n",
    "\t\twriter.writerow({'Id':str(i) , 'Cover_type': str(point)})\n",
    "\t\ti=i+1"
   ]
  },
  {
   "cell_type": "code",
   "execution_count": 8,
   "metadata": {
    "collapsed": false
   },
   "outputs": [],
   "source": [
    "## making a development set\n",
    "from sklearn import cross_validation\n",
    "X_train, X_val, Y_train, Y_val = cross_validation.train_test_split(X, Y, test_size=0.1, random_state=0)"
   ]
  },
  {
   "cell_type": "code",
   "execution_count": 9,
   "metadata": {
    "collapsed": false
   },
   "outputs": [],
   "source": [
    "#Standardized\n",
    "#Apply transform only for non-categorical data\n",
    "from sklearn import preprocessing\n",
    "size = 10\n",
    "X_temp =  preprocessing.StandardScaler().fit_transform(X_train[:,0:size])\n",
    "X_val_temp =  preprocessing.StandardScaler().fit_transform(X_val[:,0:size])\n",
    "#Concatenate non-categorical data and categorical\n",
    "X_con = np.concatenate((X_temp,X_train[:,size:]),axis=1)\n",
    "X_val_con = np.concatenate((X_val_temp,X_val[:,size:]),axis=1)"
   ]
  },
  {
   "cell_type": "code",
   "execution_count": 10,
   "metadata": {
    "collapsed": false
   },
   "outputs": [],
   "source": [
    "# standard model object \n",
    "logreg = linear_model.LogisticRegression(penalty='l2',C=1e5)\n",
    "\n",
    "## fitting the model\n",
    "logreg.fit(X_con, Y_train)\n",
    "y_val_pre = logreg.predict(X_val_con)"
   ]
  },
  {
   "cell_type": "code",
   "execution_count": 11,
   "metadata": {
    "collapsed": false
   },
   "outputs": [
    {
     "name": "stdout",
     "output_type": "stream",
     "text": [
      "1016\n",
      "1512\n"
     ]
    }
   ],
   "source": [
    "## checking accuracy on development set\n",
    "count = 0\n",
    "for i in range(0,len(y_val_pre)):\n",
    "    if y_val_pre[i] == Y_val[i]:\n",
    "        count = count + 1\n",
    "\n",
    "print(count)\n",
    "print(len(y_val_pre))"
   ]
  },
  {
   "cell_type": "code",
   "execution_count": 12,
   "metadata": {
    "collapsed": false
   },
   "outputs": [
    {
     "name": "stdout",
     "output_type": "stream",
     "text": [
      "9293\n",
      "13608\n"
     ]
    }
   ],
   "source": [
    "y_train_pre = logreg.predict(X_con)\n",
    "\n",
    "## checking accuracy on training set\n",
    "count = 0\n",
    "for i in range(0,len(y_train_pre)):\n",
    "    if y_train_pre[i] == Y_train[i]:\n",
    "        count = count + 1\n",
    "\n",
    "print(count)\n",
    "print(len(y_train_pre))\n"
   ]
  },
  {
   "cell_type": "code",
   "execution_count": 13,
   "metadata": {
    "collapsed": true
   },
   "outputs": [],
   "source": [
    "## doing same thing without standariztion\n",
    "## fitting the model\n",
    "logreg.fit(X_train, Y_train)\n",
    "y_val_pre = logreg.predict(X_val)"
   ]
  },
  {
   "cell_type": "code",
   "execution_count": 14,
   "metadata": {
    "collapsed": false
   },
   "outputs": [
    {
     "name": "stdout",
     "output_type": "stream",
     "text": [
      "977\n",
      "1512\n"
     ]
    }
   ],
   "source": [
    "## checking accuracy on development set\n",
    "count = 0\n",
    "for i in range(0,len(y_val_pre)):\n",
    "    if y_val_pre[i] == Y_val[i]:\n",
    "        count = count + 1\n",
    "\n",
    "print(count)\n",
    "print(len(y_val_pre))"
   ]
  },
  {
   "cell_type": "code",
   "execution_count": 15,
   "metadata": {
    "collapsed": true
   },
   "outputs": [],
   "source": [
    "## combining the varibales\n",
    "\n",
    "#names of all the columns\n",
    "cols = dataset.columns\n",
    "\n",
    "#print(cols.values.tolist()[:10])\n",
    "#number of rows=r , number of columns=c\n",
    "r,c = dataset.shape\n",
    "\n",
    "#Create a new dataframe with r rows, one column for each encoded category, and target in the end\n",
    "data = pd.DataFrame(index=np.arange(0, r),columns=cols.values.tolist()[:10]+['Wilderness_Area','Soil_Type','Cover_Type'])"
   ]
  },
  {
   "cell_type": "code",
   "execution_count": 16,
   "metadata": {
    "collapsed": false
   },
   "outputs": [
    {
     "name": "stdout",
     "output_type": "stream",
     "text": [
      "0\n",
      "1000\n",
      "2000\n",
      "3000\n",
      "4000\n",
      "5000\n",
      "6000\n",
      "7000\n",
      "8000\n",
      "9000\n",
      "10000\n",
      "11000\n",
      "12000\n",
      "13000\n",
      "14000\n",
      "15000\n",
      "(15120, 13)\n"
     ]
    }
   ],
   "source": [
    "#Make an entry in 'data' for each r as category_id, target value\n",
    "for i in range(0,r):\n",
    "    w=0;\n",
    "    s=0;\n",
    "    # Category1 range\n",
    "    #print(i)\n",
    "    if i%1000 == 0:\n",
    "        print(i)\n",
    "        \n",
    "    for j in range(0,10):\n",
    "    \tdata.iloc[i,j]=dataset.iloc[i,j]\n",
    "\n",
    "    for j in range(10,14):\n",
    "        if (dataset.iloc[i,j] == 1):\n",
    "            data.iloc[i,10] = j-9\n",
    "            break\n",
    "       \n",
    "    for k in range(14,54):\n",
    "        if (dataset.iloc[i,k] == 1):\n",
    "            data.iloc[i,11] = k-13\n",
    "            break\n",
    "    #Make an entry in 'data' for each r as category_id, target value        \n",
    "    data.iloc[i,12]=dataset.iloc[i,c-1]\n",
    "\n",
    "print(data.shape)"
   ]
  },
  {
   "cell_type": "code",
   "execution_count": 18,
   "metadata": {
    "collapsed": false
   },
   "outputs": [
    {
     "name": "stdout",
     "output_type": "stream",
     "text": [
      "[5 5 2 ..., 3 3 3]\n"
     ]
    }
   ],
   "source": [
    "data = array(data)\n",
    "### slicing the array \n",
    "X = data[:,:-1]\n",
    "Y = data[:,-1]\n",
    "print(Y)"
   ]
  },
  {
   "cell_type": "code",
   "execution_count": 19,
   "metadata": {
    "collapsed": true
   },
   "outputs": [],
   "source": [
    "X_train, X_val, Y_train, Y_val = cross_validation.train_test_split(X, Y, test_size=0.1, random_state=0)"
   ]
  },
  {
   "cell_type": "code",
   "execution_count": 38,
   "metadata": {
    "collapsed": false
   },
   "outputs": [
    {
     "name": "stdout",
     "output_type": "stream",
     "text": [
      "927\n",
      "1512\n"
     ]
    }
   ],
   "source": [
    "## fitting the model\n",
    "# standard model object \n",
    "logreg.fit(X_train, Y_train.astype(int))\n",
    "\n",
    "y_val_pre = logreg.predict(X_val)\n",
    "# checking accuracy on development set\n",
    "count = 0\n",
    "for i in range(0,len(y_val_pre)):\n",
    "    if y_val_pre[i] == Y_val[i]:\n",
    "        count = count + 1\n",
    "\n",
    "print(count)\n",
    "print(len(y_val_pre))"
   ]
  },
  {
   "cell_type": "code",
   "execution_count": 41,
   "metadata": {
    "collapsed": false
   },
   "outputs": [
    {
     "name": "stdout",
     "output_type": "stream",
     "text": [
      "testing other models\n",
      "1283\n",
      "1512\n"
     ]
    }
   ],
   "source": [
    "from sklearn.svm import SVC, LinearSVC\n",
    "from sklearn.ensemble import RandomForestClassifier\n",
    "\n",
    "print(\"testing other models\")\n",
    "random_forest = RandomForestClassifier(n_estimators=30)\n",
    "random_forest.fit(X_train, Y_train.astype(int))\n",
    "y_val_pre = random_forest.predict(X_val)\n",
    "\n",
    "count = 0\n",
    "for i in range(0,len(y_val_pre)):\n",
    "    if y_val_pre[i] == Y_val[i]:\n",
    "        count = count + 1\n",
    "\n",
    "print(count)\n",
    "print(len(y_val_pre))"
   ]
  },
  {
   "cell_type": "code",
   "execution_count": null,
   "metadata": {
    "collapsed": true
   },
   "outputs": [],
   "source": []
  }
 ],
 "metadata": {
  "kernelspec": {
   "display_name": "Python 2",
   "language": "python",
   "name": "python2"
  },
  "language_info": {
   "codemirror_mode": {
    "name": "ipython",
    "version": 2
   },
   "file_extension": ".py",
   "mimetype": "text/x-python",
   "name": "python",
   "nbconvert_exporter": "python",
   "pygments_lexer": "ipython2",
   "version": "2.7.12+"
  }
 },
 "nbformat": 4,
 "nbformat_minor": 1
}
